{
 "cells": [
  {
   "cell_type": "markdown",
   "metadata": {
    "slideshow": {
     "slide_type": "slide"
    }
   },
   "source": [
    "# Regression Basics\n",
    "## Lecture notes 1\n",
    "### Sunil Paul\n",
    "\n",
    "- The materials in this  notebook is prepared using “Diebold, F.X. (2019), Econometric Data Science: A Predictive Modeling Approach, Department of Economics, University of Pennsylvania, http://www.ssc.upenn.edu/~fdiebold/Textbooks.html.”-\n"
   ]
  },
  {
   "cell_type": "markdown",
   "metadata": {
    "slideshow": {
     "slide_type": "slide"
    }
   },
   "source": [
    "## Introduction\n",
    "- Does your education has anything to do with your salary?\n",
    "- How experience increases your salary?\n",
    "Let us have a look into the data"
   ]
  },
  {
   "cell_type": "code",
   "execution_count": 29,
   "metadata": {
    "slideshow": {
     "slide_type": "skip"
    }
   },
   "outputs": [
    {
     "name": "stderr",
     "output_type": "stream",
     "text": [
      "Warning message:\n",
      "\"package 'gridExtra' was built under R version 4.0.3\"\n"
     ]
    }
   ],
   "source": [
    "# Install required packages\n",
    "library(ggplot2)\n",
    "library(lmtest)\n",
    "library(sandwich)\n",
    "library(gridExtra)"
   ]
  },
  {
   "cell_type": "code",
   "execution_count": 30,
   "metadata": {
    "slideshow": {
     "slide_type": "skip"
    }
   },
   "outputs": [],
   "source": [
    "#Data\n",
    "wage95 <- read.csv(\"DataWages.csv\", header=TRUE)\n",
    "wages <- wage95$WAGE\n",
    "lnwages <- wage95$LNWAGE\n",
    "edu <- wage95$EDUC\n",
    "exper <- wage95$EXPER"
   ]
  },
  {
   "cell_type": "code",
   "execution_count": 66,
   "metadata": {
    "slideshow": {
     "slide_type": "skip"
    }
   },
   "outputs": [],
   "source": [
    "h1 <- ggplot()+ geom_histogram(aes(lnwages),binwidth=0.08,color=\"darkblue\", fill=\"lightblue\")+\n",
    "geom_density(color = \"red\")+\n",
    "theme_bw()+xlab(\"log(Wages)\")+ylab(\"People\") \n",
    "h2<- ggplot()+ geom_histogram(aes(edu),binwidth=1,color=\"darkblue\", fill=\"lightblue\")+\n",
    "theme_bw()+xlab(\"Education\")+ylab(\"People\")\n",
    "h3<- ggplot()+ geom_histogram(aes(exper),binwidth=2,color=\"darkblue\", fill=\"lightblue\")+\n",
    "theme_bw()+xlab(\"Experience\")+ylab(\"People\")"
   ]
  },
  {
   "cell_type": "code",
   "execution_count": 67,
   "metadata": {
    "scrolled": true,
    "slideshow": {
     "slide_type": "slide"
    }
   },
   "outputs": [
    {
     "data": {
      "image/png": "[encoded data removed]",
      "text/plain": [
       "plot without title"
      ]
     },
     "metadata": {
      "image/png": {
       "height": 420,
       "width": 420
      }
     },
     "output_type": "display_data"
    }
   ],
   "source": [
    "grid.arrange(h1, h2,h3, ncol=2)"
   ]
  },
  {
   "cell_type": "markdown",
   "metadata": {
    "slideshow": {
     "slide_type": "slide"
    }
   },
   "source": [
    "# Regression as Curve fitting\n",
    "Fit a line  like\n",
    "$$y_i=\\beta_1+\\beta_2X_i$$\n",
    "\n",
    "that minimises the devivation from data to the line estimated. \n",
    "In general, a 'quantratic loss' fuction9Mean square error) is used to find the \"best fit)\n",
    "$$\\min_{\\beta_1,\\beta_2} \\sum_{i=1}^{N}(y_i-\\beta_1-\\beta_2x_i)^2= Q$$\n",
    "\n",
    "\n"
   ]
  },
  {
   "cell_type": "markdown",
   "metadata": {
    "slideshow": {
     "slide_type": "slide"
    }
   },
   "source": [
    "# Derivation of $\\hat{\\beta}_1$ and $\\hat{\\beta}_2$\n",
    "Differenciate $Q(\\beta_1,\\beta_2)$ w.r.t $\\beta_1$ and $\\beta_2$\n",
    "\n",
    "$$\\frac{\\partial Q}{\\partial{\\beta_1}}=2\\sum_{i=1}^{N}(y_i-{\\beta}_1-{\\beta}_2 x_i)(-1)=0$$\n",
    "$$\\frac{\\partial Q}{\\partial{\\beta_2}}=2\\sum_{i=1}^{N}(y_i-{\\beta}_1-{\\beta}_2 x_i)(-x_i)=0$$\n",
    "solve the above equation for $\\beta_1$ and $\\beta_2$"
   ]
  },
  {
   "cell_type": "markdown",
   "metadata": {
    "slideshow": {
     "slide_type": "slide"
    }
   },
   "source": [
    "Consider the first Normal equation$$\n",
    "\\sum_{i=1}^{N}(y_i-{\\beta}_1-{\\beta}_2 x_i)=0$$\n",
    "\n",
    "$$\\sum_{i=1}^{N}y_i-N{\\beta}_1-{\\beta}_2\\sum_{i=1}^{N} x_i=0$$\n",
    "Dividing the above equation by N we have \n",
    "$$\\bar{y}-{\\beta}_1-{\\beta}_2\\bar{x}$$\n",
    "$$\\therefore \\hat{\\beta_1}=\\bar{y}-\\hat{\\beta}_2 \\bar{x}$$ "
   ]
  },
  {
   "cell_type": "markdown",
   "metadata": {
    "slideshow": {
     "slide_type": "slide"
    }
   },
   "source": [
    "Consider the second Normal equation$$\n",
    "\\sum_{i=1}^{N}(y_i-{\\beta}_1-{\\beta}_2 x_i)(-x_i)=0$$\n",
    "\n",
    "$$\\sum_{i=1}^{N}y_ix_i-{\\beta}_1\\sum_{i=1}^{N}x_i-{\\beta}_2\\sum_{i=1}^{N} x_i^2=0$$\n",
    "Dividing the above equation by N we have \n",
    "$$\\frac{1}{N}\\sum_{i=1}^{N}y_ix_i-{\\beta}_1\\bar{x}-{\\beta}_2\\frac{1}{N}\\sum_{i=1}^{N} x_i^2=0$$\n",
    "substituting $\\hat{\\beta_1}=\\bar{y}-\\hat{\\beta}_2 \\bar{x}$ and solving for $\\hat{\\beta}_2$ we get\n",
    "$$\\hat{\\beta}_2=\\frac{\\frac{1}{N} \\sum_{i=1}^{N} y_ix_i-\\bar{y}\\bar{x}}{\\frac{1}{N} \\sum_{i=1}^{N}x_i^2-\\bar{x}^2}$$\n"
   ]
  },
  {
   "cell_type": "markdown",
   "metadata": {
    "slideshow": {
     "slide_type": "slide"
    }
   },
   "source": [
    "Alternative expressions \n",
    "\n",
    "$$\\hat{\\beta}_2=\\frac{\\sum (y_i-\\bar{y})(x_i-\\bar{x})}{\\sum (x_i-\\bar{x})^2}$$\n",
    "Alternative expression \n",
    "$$\\hat{\\beta}_2=\\frac{Cov(y,x)}{Var(x^2)}$$\n"
   ]
  },
  {
   "cell_type": "code",
   "execution_count": 96,
   "metadata": {
    "slideshow": {
     "slide_type": "slide"
    }
   },
   "outputs": [
    {
     "data": {
      "image/png": "[encoded data removed]",
      "text/plain": [
       "plot without title"
      ]
     },
     "metadata": {
      "image/png": {
       "height": 420,
       "width": 420
      }
     },
     "output_type": "display_data"
    }
   ],
   "source": [
    "p <- ggplot(data=wage95, aes(y=LNWAGE,x=EDUC))+geom_point()+theme_bw()\n",
    "p"
   ]
  },
  {
   "cell_type": "code",
   "execution_count": 98,
   "metadata": {
    "scrolled": true,
    "slideshow": {
     "slide_type": "slide"
    }
   },
   "outputs": [
    {
     "name": "stderr",
     "output_type": "stream",
     "text": [
      "`geom_smooth()` using formula 'y ~ x'\n",
      "\n"
     ]
    },
    {
     "data": {
      "image/png": "[encoded data removed]",
      "text/plain": [
       "plot without title"
      ]
     },
     "metadata": {
      "image/png": {
       "height": 420,
       "width": 420
      }
     },
     "output_type": "display_data"
    }
   ],
   "source": [
    "p+geom_smooth(method=lm)\n"
   ]
  },
  {
   "cell_type": "markdown",
   "metadata": {
    "slideshow": {
     "slide_type": "slide"
    }
   },
   "source": [
    "# Actual Values, Fitted Values and Residuals\n",
    "Actual values: $y_i; i = 1,2,..., N$\n",
    "\n",
    "Least-squares fitted parameters:$\\beta_1$ and $\\beta_2$\n",
    "\n",
    "Fitted values: $\\hat{y}_i = \\hat{\\beta}_1 + \\hat{\\beta}_2 x_i; i = 1,2,..., N$\n",
    "\n",
    "Residuals: $e_i = y_i − \\hat{y}_i; i = 1,2,..., N$\n",
    "$$\\hat{lwages}=1.273+0.081 EDUC$$"
   ]
  },
  {
   "cell_type": "markdown",
   "metadata": {
    "slideshow": {
     "slide_type": "slide"
    }
   },
   "source": [
    "# Multiple Linear Regression (K RHS Variables)\n",
    "Solve: $$\\min_{\\beta_1,...,\\beta_k} \\sum_{i=1}^{N}(y_i-\\beta_1-\\beta_2x_i-...-\\beta_k x_k)^2$$\n",
    "\n",
    "fitted hyperplane: $$\\hat{y}_i = \\sum_{k=1}^{K}\\hat{\\beta}_k x_{ik};$$ $ i = 1,2,..., N, x_{1k}=1$ for all $i$\n",
    "\n"
   ]
  },
  {
   "cell_type": "markdown",
   "metadata": {
    "slideshow": {
     "slide_type": "slide"
    }
   },
   "source": [
    "# Multiple regression in Matrix form\n",
    " We can represent the multiple regresss more compactly in matrix form as follows\n",
    " $$y=X\\beta+\\varepsilon$$ i.e.\n",
    "$$ \\begin{pmatrix}y_1\\\\y_2\\\\\\vdots\\\\y_N\\end{pmatrix}=\\begin{pmatrix}1&x_{12}&x_{13}&\\ldots&x_{1k}\\\\1&x_{22}&x_{23}&\n",
    "\\ldots&x_{2k}\\\\ \\vdots&&&&\\\\1&x_{N2}&x_{N3}&\\ldots&x_{Nk}\\end{pmatrix}\\begin{pmatrix}\\beta_1\\\\ \\beta_2\\\\ \\vdots\\\\\\beta_k\\end{pmatrix}+ \\begin{pmatrix}e_1\\\\ e_2\\\\ \\vdots\\\\e_N\\end{pmatrix}$$\n",
    "or\n",
    " $${y}_i = \\sum_{k=1}^{K}{\\beta}_k x_{ik}+\\varepsilon_i;$$ $ i = 1,2,..., N, x_{1k}=1$ for all $i$\n"
   ]
  },
  {
   "cell_type": "markdown",
   "metadata": {
    "slideshow": {
     "slide_type": "slide"
    }
   },
   "source": [
    "# Multiple regression in Matrix form\n",
    "In matrix notation the curve filleing problem can be represented as\n",
    "$$\\min_{\\beta}((y-X\\beta)'(y-X\\beta))$$ and \n",
    "\n",
    "It can be shown that the solution is:\n",
    "$$\\beta_{LS}=(X'X)^{-1}X'y$$\n",
    "\n"
   ]
  },
  {
   "cell_type": "markdown",
   "metadata": {
    "slideshow": {
     "slide_type": "slide"
    }
   },
   "source": [
    "# Regression as a probability Model"
   ]
  },
  {
   "cell_type": "markdown",
   "metadata": {
    "slideshow": {
     "slide_type": "slide"
    }
   },
   "source": [
    "## A Population Model and a Sample Estimator\n",
    "### Ideal conditions (IC)\n",
    "\n",
    "- The data-generating process (DGP) is:\n",
    "$$y=X\\beta+\\varepsilon$$\n",
    "$$\\varepsilon \\sim N(O,\\sigma^2 I)$$ and the fitted model matches it exactly.\n",
    "    - The fitted model is correctly specified\n",
    "    - The disturbances are Gaussian\n",
    "    - The coefficients$(\\beta)$ are fixed\n",
    "    - The relationship is linear\n",
    "    - $Var(\\varepsilon)=\\sigma^2I$; variance of error are constant\n",
    "    - $E(\\varepsilon_i\\varepsilon_j)=0;i\\ne j$ errors are uncorrelated"
   ]
  },
  {
   "cell_type": "markdown",
   "metadata": {
    "slideshow": {
     "slide_type": "slide"
    }
   },
   "source": [
    "## A Population Model and a Sample Estimator\n",
    "### Ideal conditions (IC)\n",
    "- $E(\\varepsilon X)=0$  errors are  independent of X\n",
    "    - $E(\\varepsilon|X)=0$\n",
    "    -  $Var(\\varepsilon|X)=\\sigma^2$"
   ]
  },
  {
   "cell_type": "markdown",
   "metadata": {
    "slideshow": {
     "slide_type": "slide"
    }
   },
   "source": [
    "# Large-Sample Distribution of $\\beta_{LS}$\n",
    "## Under the IC\n",
    "$\\beta_{LS}$ is consistent and asymptotically normally distributed with\n",
    "covariance matrix V,\n",
    "$$\\beta_{LS}\\stackrel{a}{\\sim} N(\\beta,V)$$\n",
    "\n",
    "we estimate $V$ using $V^= s^2(X'X)^{−1}$, where $s^2=\\frac{\\sum_{i=1}^{N}e_i^2}{N − K}$"
   ]
  },
  {
   "cell_type": "code",
   "execution_count": 13,
   "metadata": {
    "slideshow": {
     "slide_type": "slide"
    }
   },
   "outputs": [
    {
     "data": {
      "text/plain": [
       "\n",
       "Call:\n",
       "lm(formula = LNWAGE ~ EDUC + EXPER, data = wage95)\n",
       "\n",
       "Residuals:\n",
       "     Min       1Q   Median       3Q      Max \n",
       "-1.96035 -0.32125  0.00331  0.33805  1.64061 \n",
       "\n",
       "Coefficients:\n",
       "            Estimate Std. Error t value Pr(>|t|)    \n",
       "(Intercept) 0.867382   0.075331   11.51   <2e-16 ***\n",
       "EDUC        0.093229   0.005045   18.48   <2e-16 ***\n",
       "EXPER       0.013104   0.001164   11.26   <2e-16 ***\n",
       "---\n",
       "Signif. codes:  0 '***' 0.001 '**' 0.01 '*' 0.05 '.' 0.1 ' ' 1\n",
       "\n",
       "Residual standard error: 0.4923 on 1320 degrees of freedom\n",
       "Multiple R-squared:  0.2322,\tAdjusted R-squared:  0.2311 \n",
       "F-statistic: 199.6 on 2 and 1320 DF,  p-value: < 2.2e-16\n"
      ]
     },
     "metadata": {},
     "output_type": "display_data"
    }
   ],
   "source": [
    "reg1 <- lm(LNWAGE~EDUC + EXPER,data=wage95)\n",
    "summary(reg1)"
   ]
  }
 ],
 "metadata": {
  "kernelspec": {
   "display_name": "R",
   "language": "R",
   "name": "ir"
  },
  "language_info": {
   "codemirror_mode": "r",
   "file_extension": ".r",
   "mimetype": "text/x-r-source",
   "name": "R",
   "pygments_lexer": "r",
   "version": "4.0.2"
  }
 },
 "nbformat": 4,
 "nbformat_minor": 4
}
